{
  "nbformat": 4,
  "nbformat_minor": 0,
  "metadata": {
    "colab": {
      "name": "Word Count.ipynb",
      "provenance": []
    },
    "kernelspec": {
      "name": "python3",
      "display_name": "Python 3"
    },
    "language_info": {
      "name": "python"
    }
  },
  "cells": [
    {
      "cell_type": "code",
      "metadata": {
        "colab": {
          "base_uri": "https://localhost:8080/"
        },
        "id": "CP7RpSj-W4d9",
        "outputId": "78810202-632d-40a2-e6a4-363f399144c7"
      },
      "source": [
        "\n",
        "\n",
        "\n",
        "def count_words(text):\n",
        "  import re\n",
        "  from collections import Counter\n",
        "\n",
        "  \"\"\"Count how many times each unique word occurs in text.\"\"\"\n",
        "  counts = dict()  # dictionary of { <word>: <count> } pairs to return\n",
        "    \n",
        "  # TODO: Convert to lowercase\n",
        "  text= text.lower()\n",
        "    \n",
        "  # TODO: Split text into tokens (words), leaving out punctuation\n",
        "  # (Hint: Use regex to split on non-alphanumeric characters)\n",
        "  Words= re.split('[^a-zA-Z]', text)\n",
        "  # TODO: Aggregate word counts using a dictionary\n",
        "  counts = Counter(Words)\n",
        "  return counts\n",
        "print(\"done\")"
      ],
      "execution_count": 11,
      "outputs": [
        {
          "output_type": "stream",
          "text": [
            "done\n"
          ],
          "name": "stdout"
        }
      ]
    },
    {
      "cell_type": "code",
      "metadata": {
        "colab": {
          "base_uri": "https://localhost:8080/"
        },
        "id": "4JGrcca1YAug",
        "outputId": "823e002e-b78c-40c3-ba07-1f1887f553e4"
      },
      "source": [
        "text = \"\"\"As I was waiting, a man came out of a side room, and at a glance I was sure he must be Long John. His left leg was cut off close by the hip, and under the left shoulder he carried a crutch, which he managed with wonderful dexterity, hopping about upon it like a bird. He was very tall and strong, with a face as big as a ham—plain and pale, but intelligent and smiling. Indeed, he seemed in the most cheerful spirits, whistling as he moved about among the tables, with a merry word or a slap on the shoulder for the more favoured of his guests.\n",
        "\"\"\" \n",
        "def test_run():\n",
        "  counts = count_words(text)\n",
        "  sorted_counts = sorted(counts.items(), key=lambda pair: pair[1], reverse=True)\n",
        "  print(\"10 most common words:\\nWord\\tCount\")\n",
        "  for word, count in sorted_counts[:10]:\n",
        "    print(\"{}\\t{}\".format(word, count))\n",
        "  print(\"\\n10 least common words:\\nWord\\tCount\")\n",
        "  for word, count in sorted_counts[-10:]:\n",
        "      print(\"{}\\t{}\".format(word, count))\n",
        "\n",
        "\n",
        "test_run()"
      ],
      "execution_count": 12,
      "outputs": [
        {
          "output_type": "stream",
          "text": [
            "10 most common words:\n",
            "Word\tCount\n",
            "\t15\n",
            "a\t9\n",
            "he\t6\n",
            "the\t6\n",
            "and\t5\n",
            "as\t4\n",
            "was\t4\n",
            "with\t3\n",
            "i\t2\n",
            "of\t2\n",
            "\n",
            "10 least common words:\n",
            "Word\tCount\n",
            "tables\t1\n",
            "merry\t1\n",
            "word\t1\n",
            "or\t1\n",
            "slap\t1\n",
            "on\t1\n",
            "for\t1\n",
            "more\t1\n",
            "favoured\t1\n",
            "guests\t1\n"
          ],
          "name": "stdout"
        }
      ]
    }
  ]
}